{
  "nbformat": 4,
  "nbformat_minor": 0,
  "metadata": {
    "colab": {
      "provenance": [],
      "authorship_tag": "ABX9TyNOss18Y/hxDz5h8+WXPBe6",
      "include_colab_link": true
    },
    "kernelspec": {
      "name": "python3",
      "display_name": "Python 3"
    },
    "language_info": {
      "name": "python"
    }
  },
  "cells": [
    {
      "cell_type": "markdown",
      "metadata": {
        "id": "view-in-github",
        "colab_type": "text"
      },
      "source": [
        "<a href=\"https://colab.research.google.com/github/2403a52067-png/AIAC/blob/main/Untitled0.ipynb\" target=\"_parent\"><img src=\"https://colab.research.google.com/assets/colab-badge.svg\" alt=\"Open In Colab\"/></a>"
      ]
    },
    {
      "cell_type": "markdown",
      "source": [
        "write a function that filterout all negative numbers from the given list of numbers.\n",
        "PROMPT:A python function that filtersout negative numbers from a list of numb ers."
      ],
      "metadata": {
        "id": "PaxVhasfiyPt"
      }
    },
    {
      "cell_type": "code",
      "execution_count": 1,
      "metadata": {
        "colab": {
          "base_uri": "https://localhost:8080/"
        },
        "id": "8lsU-gZsifwR",
        "outputId": "b109eee0-5ecd-4686-a995-9ad07c5d3e49"
      },
      "outputs": [
        {
          "output_type": "stream",
          "name": "stdout",
          "text": [
            "[1, 3, 5, 0]\n"
          ]
        }
      ],
      "source": [
        "def filter_negative_numbers(numbers):\n",
        "  \"\"\"Filters out negative numbers from a list.\n",
        "\n",
        "  Args:\n",
        "    numbers: A list of numbers.\n",
        "\n",
        "  Returns:\n",
        "    A new list containing only the non-negative numbers from the input list.\n",
        "  \"\"\"\n",
        "  return [num for num in numbers if num >= 0]\n",
        "\n",
        "# Example usage:\n",
        "my_list = [1, -2, 3, -4, 5, 0, -6]\n",
        "filtered_list = filter_negative_numbers(my_list)\n",
        "print(filtered_list)"
      ]
    },
    {
      "cell_type": "markdown",
      "source": [
        "The code defines a function filter_negative_numbers that takes a list of numbers.\n",
        "It uses a list comprehension to iterate through the input list.\n",
        "For each number, it checks if the number is greater than or equal to 0 (non-negative).\n",
        "It creates a new list containing only the numbers that meet this condition.\n",
        "Finally, it demonstrates the function's usage with an example list and prints the filtered result.\n"
      ],
      "metadata": {
        "id": "EEMLHu1njsY7"
      }
    },
    {
      "cell_type": "markdown",
      "source": [
        "a code that reads the text file and counts the frequency of each word .\n",
        "PROMPT:The code defines a function filter_negative_numbers that takes a list of numbers."
      ],
      "metadata": {
        "id": "JadiApg-kGwb"
      }
    },
    {
      "cell_type": "code",
      "source": [
        "from collections import Counter\n",
        "import re\n",
        "\n",
        "def word_frequency(filepath):\n",
        "  \"\"\"Reads a text file and counts the frequency of each word.\n",
        "\n",
        "  Args:\n",
        "    filepath: The path to the text file.\n",
        "\n",
        "  Returns:\n",
        "    A Counter object with word frequencies.\n",
        "  \"\"\"\n",
        "  try:\n",
        "    with open(filepath, 'r', encoding='utf-8') as file:\n",
        "      text = file.read().lower()\n",
        "      # Remove punctuation and split into words\n",
        "      words = re.findall(r'\\b\\w+\\b', text)\n",
        "      return Counter(words)\n",
        "  except FileNotFoundError:\n",
        "    return f\"Error: File not found at {filepath}\"\n",
        "  except Exception as e:\n",
        "    return f\"An error occurred: {e}\"\n",
        "\n",
        "# Example usage:\n",
        "# Create a dummy text file for demonstration\n",
        "with open(\"sample.txt\", \"w\") as f:\n",
        "    f.write(\"This is a sample text file. This file is for testing purposes.\")\n",
        "\n",
        "file_path = \"sample.txt\"\n",
        "frequencies = word_frequency(file_path)\n",
        "print(frequencies)"
      ],
      "metadata": {
        "colab": {
          "base_uri": "https://localhost:8080/"
        },
        "id": "AvJt5KSjkoQH",
        "outputId": "2bb66355-1d1b-4e36-dfc2-1663d64d2b0b"
      },
      "execution_count": 2,
      "outputs": [
        {
          "output_type": "stream",
          "name": "stdout",
          "text": [
            "Counter({'this': 2, 'is': 2, 'file': 2, 'a': 1, 'sample': 1, 'text': 1, 'for': 1, 'testing': 1, 'purposes': 1})\n"
          ]
        }
      ]
    },
    {
      "cell_type": "markdown",
      "source": [
        "It imports Counter for counting and re for regular expressions.\n",
        "The word_frequency function takes a file path.\n",
        "It opens the file, reads the content, and converts it to lowercase.\n",
        "It finds all words using a regular expression and counts their occurrences using Counter.\n",
        "Finally, it handles potential file errors and prints the word frequencies."
      ],
      "metadata": {
        "id": "mcsbDtYrlXXF"
      }
    },
    {
      "cell_type": "markdown",
      "source": [
        "generate a python class called book with attributes title,author,and a method summary() that prints the details."
      ],
      "metadata": {
        "id": "BnpmL6HilZcy"
      }
    },
    {
      "cell_type": "code",
      "source": [
        "class Book:\n",
        "  \"\"\"Represents a book with a title and author.\"\"\"\n",
        "\n",
        "  def __init__(self, title, author):\n",
        "    \"\"\"Initializes a new Book object.\n",
        "\n",
        "    Args:\n",
        "      title: The title of the book.\n",
        "      author: The author of the book.\n",
        "    \"\"\"\n",
        "    self.title = title\n",
        "    self.author = author\n",
        "\n",
        "  def summary(self):\n",
        "    \"\"\"Prints the details of the book.\"\"\"\n",
        "    print(f\"Title: {self.title}\")\n",
        "    print(f\"Author: {self.author}\")\n",
        "\n",
        "# Example usage:\n",
        "my_book = Book(\"The Hitchhiker's Guide to the Galaxy\", \"Douglas Adams\")\n",
        "my_book.summary()"
      ],
      "metadata": {
        "colab": {
          "base_uri": "https://localhost:8080/"
        },
        "id": "2HgSZp1Xl0tF",
        "outputId": "c9197177-2ecb-47ed-82f2-12079e9c5102"
      },
      "execution_count": 3,
      "outputs": [
        {
          "output_type": "stream",
          "name": "stdout",
          "text": [
            "Title: The Hitchhiker's Guide to the Galaxy\n",
            "Author: Douglas Adams\n"
          ]
        }
      ]
    },
    {
      "cell_type": "markdown",
      "source": [
        "The __init__ method is the constructor; it initializes a new Book object with a title and author.\n",
        "The self.title and self.author store the title and author as attributes of the object.\n",
        "The summary method prints the title and author of the book.\n",
        "An example demonstrates creating a Book object and calling the summary method."
      ],
      "metadata": {
        "id": "jj441ul_uBn3"
      }
    },
    {
      "cell_type": "markdown",
      "source": [
        "write a program that checks weather a number is an amstrong number .\n",
        "PROMPT:python program to check the number is strong or not."
      ],
      "metadata": {
        "id": "Mvv8owIpuDVj"
      }
    },
    {
      "cell_type": "code",
      "source": [
        "def is_armstrong_number(number):\n",
        "  \"\"\"Checks if a number is an Armstrong number.\n",
        "\n",
        "  An Armstrong number is a number that is equal to the sum of its own digits\n",
        "  each raised to the power of the number of digits.\n",
        "\n",
        "  Args:\n",
        "    number: The number to check.\n",
        "\n",
        "  Returns:\n",
        "    True if the number is an Armstrong number, False otherwise.\n",
        "  \"\"\"\n",
        "  # Convert the number to a string to get the number of digits\n",
        "  num_str = str(number)\n",
        "  num_digits = len(num_str)\n",
        "  sum_of_powers = 0\n",
        "\n",
        "  # Calculate the sum of digits raised to the power of the number of digits\n",
        "  for digit in num_str:\n",
        "    sum_of_powers += int(digit) ** num_digits\n",
        "\n",
        "  # Check if the sum is equal to the original number\n",
        "  return sum_of_powers == number\n",
        "\n",
        "# Example usage:\n",
        "num_to_check = 153\n",
        "if is_armstrong_number(num_to_check):\n",
        "  print(f\"{num_to_check} is an Armstrong number.\")\n",
        "else:\n",
        "  print(f\"{num_to_check} is not an Armstrong number.\")\n",
        "\n",
        "num_to_check = 123\n",
        "if is_armstrong_number(num_to_check):\n",
        "  print(f\"{num_to_check} is an Armstrong number.\")\n",
        "else:\n",
        "  print(f\"{num_to_check} is not an Armstrong number.\")"
      ],
      "metadata": {
        "colab": {
          "base_uri": "https://localhost:8080/"
        },
        "id": "DDCLZowCuZU-",
        "outputId": "9b8031e7-79e3-4df2-e8dc-e3891c7da85f"
      },
      "execution_count": 4,
      "outputs": [
        {
          "output_type": "stream",
          "name": "stdout",
          "text": [
            "153 is an Armstrong number.\n",
            "123 is not an Armstrong number.\n"
          ]
        }
      ]
    },
    {
      "cell_type": "markdown",
      "source": [
        "The is_armstrong_number function takes an integer as input.\n",
        "It converts the number to a string to determine the number of digits.\n",
        "It then iterates through each digit, converts it back to an integer, and raises it to the power of the total number of digits.\n",
        "The sum of these results is calculated.\n",
        "Finally, it compares this sum to the original number to determine if it's an Armstrong number and returns True or False.\n"
      ],
      "metadata": {
        "id": "QBKZUpIdu9Ul"
      }
    },
    {
      "cell_type": "markdown",
      "source": [
        "generate code for sorting a list of dictionaries by a specific key.\n",
        "PROMPT:a python code for sorting a list of dictionaries by a specific key."
      ],
      "metadata": {
        "id": "niWw2VJtvD4R"
      }
    },
    {
      "cell_type": "code",
      "source": [
        "def sort_list_of_dictionaries(list_of_dicts, key_to_sort_by):\n",
        "  \"\"\"Sorts a list of dictionaries by a specific key.\n",
        "\n",
        "  Args:\n",
        "    list_of_dicts: The list of dictionaries to sort.\n",
        "    key_to_sort_by: The key to sort the dictionaries by.\n",
        "\n",
        "  Returns:\n",
        "    A new list of dictionaries sorted by the specified key.\n",
        "  \"\"\"\n",
        "  return sorted(list_of_dicts, key=lambda x: x[key_to_sort_by])\n",
        "\n",
        "# Example usage:\n",
        "data = [\n",
        "    {'name': 'Alice', 'age': 30},\n",
        "    {'name': 'Bob', 'age': 25},\n",
        "    {'name': 'Charlie', 'age': 35}\n",
        "]\n",
        "\n",
        "sorted_data = sort_list_of_dictionaries(data, 'age')\n",
        "print(\"Sorted by age:\")\n",
        "print(sorted_data)\n",
        "\n",
        "sorted_data_name = sort_list_of_dictionaries(data, 'name')\n",
        "print(\"\\nSorted by name:\")\n",
        "print(sorted_data_name)"
      ],
      "metadata": {
        "colab": {
          "base_uri": "https://localhost:8080/"
        },
        "id": "SfWZV7SjvCp7",
        "outputId": "059138bc-4124-45dd-db08-ab65734d1624"
      },
      "execution_count": 5,
      "outputs": [
        {
          "output_type": "stream",
          "name": "stdout",
          "text": [
            "Sorted by age:\n",
            "[{'name': 'Bob', 'age': 25}, {'name': 'Alice', 'age': 30}, {'name': 'Charlie', 'age': 35}]\n",
            "\n",
            "Sorted by name:\n",
            "[{'name': 'Alice', 'age': 30}, {'name': 'Bob', 'age': 25}, {'name': 'Charlie', 'age': 35}]\n"
          ]
        }
      ]
    },
    {
      "cell_type": "markdown",
      "source": [
        "The sort_list_of_dictionaries function takes a list of dictionaries and a key name as input.\n",
        "It uses the built-in sorted() function to sort the list.\n",
        "The key=lambda x: x[key_to_sort_by] part tells sorted() to use the value associated with the specified key in each dictionary as the sorting criterion.\n",
        "The function returns the new, sorted list of dictionaries.\n",
        "Example usage demonstrates sorting a sample list of dictionaries by both 'age' and 'name'."
      ],
      "metadata": {
        "id": "aftkQGyXxVzC"
      }
    }
  ]
}