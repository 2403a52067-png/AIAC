{
  "nbformat": 4,
  "nbformat_minor": 0,
  "metadata": {
    "colab": {
      "provenance": [],
      "authorship_tag": "ABX9TyNn/64wRHbb4J/wRfkolmjY",
      "include_colab_link": true
    },
    "kernelspec": {
      "name": "python3",
      "display_name": "Python 3"
    },
    "language_info": {
      "name": "python"
    }
  },
  "cells": [
    {
      "cell_type": "markdown",
      "metadata": {
        "id": "view-in-github",
        "colab_type": "text"
      },
      "source": [
        "<a href=\"https://colab.research.google.com/github/2403a52067-png/AIAC/blob/main/lab_3_3.ipynb\" target=\"_parent\"><img src=\"https://colab.research.google.com/assets/colab-badge.svg\" alt=\"Open In Colab\"/></a>"
      ]
    },
    {
      "cell_type": "markdown",
      "source": [
        "Try 3 different prompts to generate a factorial function.\n",
        "PROMPT:a python function to 3 different prompts to generate a factorial function"
      ],
      "metadata": {
        "id": "FHpZqwxMSU99"
      }
    },
    {
      "cell_type": "code",
      "execution_count": 1,
      "metadata": {
        "colab": {
          "base_uri": "https://localhost:8080/"
        },
        "id": "oezvkfCNSMX-",
        "outputId": "a7503ac2-f479-4726-a94e-d86fd728b666"
      },
      "outputs": [
        {
          "output_type": "stream",
          "name": "stdout",
          "text": [
            "Factorial of 5 using loop: 120\n",
            "Factorial of 5 using recursion: 120\n",
            "Factorial of 5 using math.factorial: 120\n"
          ]
        }
      ],
      "source": [
        "# Prompt 1: Basic factorial function using a loop\n",
        "def factorial_loop(n):\n",
        "    if n == 0:\n",
        "        return 1\n",
        "    else:\n",
        "        result = 1\n",
        "        for i in range(1, n + 1):\n",
        "            result *= i\n",
        "        return result\n",
        "\n",
        "# Prompt 2: Factorial function using recursion\n",
        "def factorial_recursive(n):\n",
        "    if n == 0:\n",
        "        return 1\n",
        "    else:\n",
        "        return n * factorial_recursive(n - 1)\n",
        "\n",
        "# Prompt 3: Factorial function using math.factorial (built-in library)\n",
        "import math\n",
        "def factorial_math(n):\n",
        "    if n < 0:\n",
        "        return \"Factorial is not defined for negative numbers\"\n",
        "    else:\n",
        "        return math.factorial(n)\n",
        "\n",
        "# Example usage:\n",
        "print(f\"Factorial of 5 using loop: {factorial_loop(5)}\")\n",
        "print(f\"Factorial of 5 using recursion: {factorial_recursive(5)}\")\n",
        "print(f\"Factorial of 5 using math.factorial: {factorial_math(5)}\")"
      ]
    },
    {
      "cell_type": "markdown",
      "source": [
        "factorial_loop(n): This function calculates the factorial using a for loop. It initializes a result to 1 and then iterates from 1 up to n, multiplying the result by each number in the range.\n",
        "factorial_recursive(n): This function uses recursion. The base case is when n is 0, it returns 1. Otherwise, it returns n multiplied by the result of calling itself with n-1.\n",
        "factorial_math(n): This function utilizes the built-in math.factorial() function from Python's math module. It first checks if the input n is negative, as factorial is not defined for negative numbers, and then returns the result from the math library."
      ],
      "metadata": {
        "id": "M__THNcCWu3U"
      }
    },
    {
      "cell_type": "markdown",
      "source": [
        "Provide a clear example input-output prompt to generate a sorting function.\n",
        "PROMPT:A python program to Provide a clear example input-output prompt to generate a sorting function"
      ],
      "metadata": {
        "id": "emLmbQEzWw2c"
      }
    },
    {
      "cell_type": "code",
      "source": [
        "# Provide a clear example input-output prompt to generate a sorting function\n",
        "\n",
        "# Input:\n",
        "# A list of unsorted numbers: [5, 2, 8, 1, 9, 4]\n",
        "\n",
        "# Expected Output:\n",
        "# The sorted list in ascending order: [1, 2, 4, 5, 8, 9]\n",
        "\n",
        "# Based on the input and expected output above, write a Python function\n",
        "# called 'sort_list' that takes a list of numbers as input and returns\n",
        "# a new list with the numbers sorted in ascending order.\n",
        "\n",
        "def sort_list(input_list):\n",
        "  \"\"\"\n",
        "  Sorts a list of numbers in ascending order.\n",
        "\n",
        "  Args:\n",
        "    input_list: A list of numbers.\n",
        "\n",
        "  Returns:\n",
        "    A new list with the numbers sorted in ascending order.\n",
        "  \"\"\"\n",
        "  # You can add your sorting algorithm here.\n",
        "  # For example, using the built-in sorted() function:\n",
        "  # return sorted(input_list)\n",
        "\n",
        "  # Or implementing a sorting algorithm like bubble sort:\n",
        "  n = len(input_list)\n",
        "  sorted_list = input_list[:] # Create a copy to avoid modifying the original list\n",
        "  for i in range(n):\n",
        "    for j in range(0, n - i - 1):\n",
        "      if sorted_list[j] > sorted_list[j + 1]:\n",
        "        sorted_list[j], sorted_list[j + 1] = sorted_list[j + 1], sorted_list[j]\n",
        "  return sorted_list\n",
        "\n",
        "\n",
        "# Example usage:\n",
        "unsorted_list = [5, 2, 8, 1, 9, 4]\n",
        "sorted_result = sort_list(unsorted_list)\n",
        "print(f\"Input list: {unsorted_list}\")\n",
        "print(f\"Sorted list: {sorted_result}\")"
      ],
      "metadata": {
        "colab": {
          "base_uri": "https://localhost:8080/"
        },
        "id": "-chm8WLOXFBA",
        "outputId": "45ac507a-021e-4e2e-f34b-51f821485c90"
      },
      "execution_count": 2,
      "outputs": [
        {
          "output_type": "stream",
          "name": "stdout",
          "text": [
            "Input list: [5, 2, 8, 1, 9, 4]\n",
            "Sorted list: [1, 2, 4, 5, 8, 9]\n"
          ]
        }
      ]
    },
    {
      "cell_type": "markdown",
      "source": [
        "nput and Expected Output: The code first defines an example Input list of unsorted numbers [5, 2, 8, 1, 9, 4] and the Expected Output which is the same list sorted in ascending order [1, 2, 4, 5, 8, 9]. This serves as a clear prompt for someone to write a function that transforms the input into the expected output.\n",
        "Function Definition: A function sort_list(input_list) is defined. The docstring explains its purpose: to sort a list of numbers in ascending order.\n",
        "Sorting Implementation (Bubble Sort): Inside the function, a bubble sort algorithm is implemented.\n",
        "n = len(input_list) gets the length of the input list.\n",
        "sorted_list = input_list[:] creates a copy of the input list to avoid modifying the original list.\n",
        "The nested for loops implement the bubble sort logic, comparing adjacent elements and swapping them if they are in the wrong order. This process is repeated until the list is sorted."
      ],
      "metadata": {
        "id": "gnJHkQS5XYwQ"
      }
    },
    {
      "cell_type": "markdown",
      "source": [
        "Start with the vague prompt “Generate python code to calculate power bill” and\n",
        "improve it step-by-step.\n",
        "PROMPT:a python code Start with the vague prompt “Generate python code to calculate power bill” and improve it step by step"
      ],
      "metadata": {
        "id": "zmq1T0ZEXdex"
      }
    },
    {
      "cell_type": "code",
      "source": [
        "# Initial vague prompt: \"Generate python code to calculate power bill\"\n",
        "\n",
        "# Step 1: Identify necessary inputs for calculating a power bill.\n",
        "# A power bill typically depends on:\n",
        "# 1. Electricity consumption (in kWh)\n",
        "# 2. The rate per kWh\n",
        "# 3. Any fixed charges or taxes\n",
        "\n",
        "# Let's refine the prompt to include these inputs:\n",
        "# \"Generate python code to calculate power bill given electricity consumption in kWh,\n",
        "# rate per kWh, and any fixed charges.\"\n",
        "\n",
        "# Now, let's write a basic function based on this refined prompt.\n",
        "\n",
        "def calculate_power_bill(consumption_kwh, rate_per_kwh, fixed_charges):\n",
        "  \"\"\"\n",
        "  Calculates a basic power bill.\n",
        "\n",
        "  Args:\n",
        "    consumption_kwh: Electricity consumption in kilowatt-hours.\n",
        "    rate_per_kwh: The cost per kilowatt-hour.\n",
        "    fixed_charges: Any fixed charges or taxes.\n",
        "\n",
        "  Returns:\n",
        "    The total power bill amount.\n",
        "  \"\"\"\n",
        "  energy_cost = consumption_kwh * rate_per_kwh\n",
        "  total_bill = energy_cost + fixed_charges\n",
        "  return total_bill\n",
        "\n",
        "# Example usage with some sample values:\n",
        "# consumption = 250 kWh\n",
        "# rate = 0.15 per kWh\n",
        "# fixed = 20 (fixed monthly charge)\n",
        "sample_consumption = 250\n",
        "sample_rate = 0.15\n",
        "sample_fixed_charges = 20\n",
        "\n",
        "bill_amount = calculate_power_bill(sample_consumption, sample_rate, sample_fixed_charges)\n",
        "print(f\"With consumption of {sample_consumption} kWh, rate of ${sample_rate}/kWh, and fixed charges of ${sample_fixed_charges}, the total power bill is: ${bill_amount:.2f}\")"
      ],
      "metadata": {
        "colab": {
          "base_uri": "https://localhost:8080/"
        },
        "id": "xRgqVsE3X2wF",
        "outputId": "e5401122-c9fa-4113-b0f2-669ff0b1e6f9"
      },
      "execution_count": 3,
      "outputs": [
        {
          "output_type": "stream",
          "name": "stdout",
          "text": [
            "With consumption of 250 kWh, rate of $0.15/kWh, and fixed charges of $20, the total power bill is: $57.50\n"
          ]
        }
      ]
    },
    {
      "cell_type": "markdown",
      "source": [
        "nitial Vague Prompt: The code starts with the very general prompt: \"Generate python code to calculate power bill\".\n",
        "Step 1: Identify Necessary Inputs: It then identifies the key information needed to calculate a basic power bill: electricity consumption (in kWh), the rate per kWh, and any fixed charges or taxes.\n",
        "Refined Prompt: Based on the identified inputs, the prompt is refined to be more specific: \"Generate python code to calculate power bill given electricity consumption in kWh, rate per kWh, and any fixed charges.\"\n",
        "Basic Function Implementation: A Python function calculate_power_bill is defined based on the refined prompt. This function takes consumption_kwh, rate_per_kwh, and fixed_charges as arguments."
      ],
      "metadata": {
        "id": "4VGHRYHlZrHE"
      }
    },
    {
      "cell_type": "markdown",
      "source": [
        "Write structured comments to help AI generate two linked functions (e.g., login_user()and register_user()).\n",
        "PROMPT:in python Write structured comments to help AI generate two linked functions (e.g., login_user()and register_user())."
      ],
      "metadata": {
        "id": "DjV5Iq-dZxOC"
      }
    },
    {
      "cell_type": "code",
      "source": [
        "# This cell is intended to generate two linked Python functions: login_user and register_user.\n",
        "\n",
        "# Function 1: register_user\n",
        "# This function should handle the process of registering a new user.\n",
        "# Inputs:\n",
        "# - username (string): The desired username for the new user.\n",
        "# - password (string): The desired password for the new user.\n",
        "# - email (string, optional): The user's email address.\n",
        "#\n",
        "# Behavior:\n",
        "# - Check if the username already exists. If it does, return an error message.\n",
        "# - If the username is available, securely store the user's credentials (e.g., hash the password).\n",
        "# - Return a success message upon successful registration.\n",
        "#\n",
        "# Output:\n",
        "# - A string message indicating success or failure (e.g., \"User registered successfully!\" or \"Username already taken.\").\n",
        "\n",
        "\n",
        "# Function 2: login_user\n",
        "# This function should handle the process of logging in an existing user.\n",
        "# Inputs:\n",
        "# - username (string): The username of the user attempting to log in.\n",
        "# - password (string): The password provided by the user.\n",
        "#\n",
        "# Behavior:\n",
        "# - Check if the username exists. If it doesn't, return an error message.\n",
        "# - If the username exists, retrieve the stored password (hashed).\n",
        "# - Compare the provided password with the stored hashed password.\n",
        "# - If the passwords match, return a success message and potentially some user data (e.g., user ID).\n",
        "# - If the passwords do not match, return an error message.\n",
        "#\n",
        "# Output:\n",
        "# - A string message indicating success or failure (e.g., \"Login successful!\" or \"Invalid username or password.\").\n",
        "\n",
        "# Linking Requirement:\n",
        "# The login_user function should ideally interact with the same data storage mechanism\n",
        "# (e.g., a dictionary, a simple file, or a database connection - though a simple in-memory\n",
        "# dictionary is sufficient for this example) where the register_user function stores user data.\n",
        "# The functions should be defined in the same scope or class if a class-based approach is preferred.\n",
        "\n",
        "# Example of how an AI could potentially generate the functions based on these comments:\n",
        "\n",
        "# user_database = {} # A simple in-memory dictionary to simulate user storage\n",
        "\n",
        "# def register_user(username, password, email=None):\n",
        "#     if username in user_database:\n",
        "#         return \"Username already taken.\"\n",
        "#     # In a real application, you would hash the password\n",
        "#     user_database[username] = {\"password\": password, \"email\": email}\n",
        "#     return \"User registered successfully!\"\n",
        "\n",
        "# def login_user(username, password):\n",
        "#     if username not in user_database:\n",
        "#         return \"Invalid username or password.\"\n",
        "#     stored_password = user_database[username][\"password\"]\n",
        "#     # In a real application, you would compare hashed passwords\n",
        "#     if password == stored_password:\n",
        "#         return \"Login successful!\"\n",
        "#     else:\n",
        "#         return \"Invalid username or password.\"\n",
        "\n",
        "# print(register_user(\"testuser\", \"password123\"))\n",
        "# print(login_user(\"testuser\", \"password123\"))\n",
        "# print(login_user(\"wronguser\", \"password123\"))\n",
        "# print(login_user(\"testuser\", \"wrongpassword\"))"
      ],
      "metadata": {
        "id": "uVrJsb_Mkylt"
      },
      "execution_count": 4,
      "outputs": []
    },
    {
      "cell_type": "markdown",
      "source": [
        "Purpose: The initial comment explicitly states the intention to generate these two functions.\n",
        "Function 1: register_user:\n",
        "Comments detail the function's purpose: handling new user registration.\n",
        "Inputs: are clearly listed: username, password, and an optional email.\n",
        "Behavior: describes the steps the function should take: checking for existing usernames, securely storing credentials (mentioning password hashing as a best practice), and returning a success message.\n",
        "Output: specifies the expected return value: a string message indicating success or failure.\n",
        "Function 2: login_user:\n",
        "Comments outline this function's role: handling existing user logins.\n",
        "Inputs: are listed: username and password provided by the user.\n",
        "Behavior: describes the process: checking if the username exists, retrieving the stored (hashed) password, comparing the provided password with the stored one, and returning a success or failure message. It also mentions potentially returning user data on successful login.\n",
        "Output: specifies the expected return value: a string message indicating the login status."
      ],
      "metadata": {
        "id": "z6LUfHkbl0FB"
      }
    },
    {
      "cell_type": "markdown",
      "source": [
        "Analyzing Prompt Specificity: Improving Temperature Conversion Function with\n",
        "Clear Instructions"
      ],
      "metadata": {
        "id": "8ilCAuWTmE9V"
      }
    },
    {
      "cell_type": "code",
      "source": [
        "# Analyzing Prompt Specificity: Improving Temperature Conversion Function with Clear Instructions\n",
        "\n",
        "# Initial Vague Prompt:\n",
        "# \"Generate a python function to convert temperature.\"\n",
        "# This prompt is vague because it doesn't specify:\n",
        "# 1. Which units to convert from (e.g., Celsius, Fahrenheit, Kelvin).\n",
        "# 2. Which units to convert to.\n",
        "# 3. The name of the function.\n",
        "# 4. Expected input and output types.\n",
        "\n",
        "# Let's improve the prompt by making it more specific.\n",
        "\n",
        "# Improved Prompt 1 (Specify units):\n",
        "# \"Generate a python function to convert temperature from Celsius to Fahrenheit.\"\n",
        "\n",
        "# Now, let's write a function based on this improved prompt.\n",
        "\n",
        "def celsius_to_fahrenheit(celsius):\n",
        "  \"\"\"\n",
        "  Converts temperature from Celsius to Fahrenheit.\n",
        "\n",
        "  Args:\n",
        "    celsius: Temperature in Celsius (float or int).\n",
        "\n",
        "  Returns:\n",
        "    Temperature in Fahrenheit (float).\n",
        "  \"\"\"\n",
        "  fahrenheit = (celsius * 9/5) + 32\n",
        "  return fahrenheit\n",
        "\n",
        "# Example usage:\n",
        "celsius_temp = 25\n",
        "fahrenheit_temp = celsius_to_fahrenheit(celsius_temp)\n",
        "print(f\"{celsius_temp}°C is equal to {fahrenheit_temp}°F\")\n",
        "\n",
        "# Let's further improve the prompt to include the function name and parameter name.\n",
        "\n",
        "# Improved Prompt 2 (Specify units, function name, parameter name):\n",
        "# \"Generate a python function named 'convert_c_to_f' that takes a parameter 'temp_c' (temperature in Celsius) and returns the temperature in Fahrenheit.\"\n",
        "\n",
        "# Now, let's write a function based on this even more specific prompt.\n",
        "\n",
        "def convert_c_to_f(temp_c):\n",
        "  \"\"\"\n",
        "  Converts temperature from Celsius to Fahrenheit with a specific function and parameter name.\n",
        "\n",
        "  Args:\n",
        "    temp_c: Temperature in Celsius (float or int).\n",
        "\n",
        "  Returns:\n",
        "    Temperature in Fahrenheit (float).\n",
        "  \"\"\"\n",
        "  temp_f = (temp_c * 9/5) + 32\n",
        "  return temp_f\n",
        "\n",
        "# Example usage:\n",
        "celsius_temp_2 = 30\n",
        "fahrenheit_temp_2 = convert_c_to_f(celsius_temp_2)\n",
        "print(f\"{celsius_temp_2}°C is equal to {fahrenheit_temp_2}°F (using improved prompt 2 function)\")\n",
        "\n",
        "# We can also add an example input and output to the prompt for even more clarity.\n",
        "\n",
        "# Improved Prompt 3 (Specify units, function name, parameter name, and example):\n",
        "# \"Generate a python function named 'celsius_to_fahrenheit_example' that takes a parameter 'temp_c' (temperature in Celsius) and returns the temperature in Fahrenheit. For example, if the input is 20, the output should be 68.0.\"\n",
        "\n",
        "# Now, let's write a function based on this highly specific prompt.\n",
        "\n",
        "def celsius_to_fahrenheit_example(temp_c):\n",
        "  \"\"\"\n",
        "  Converts temperature from Celsius to Fahrenheit, with an example.\n",
        "\n",
        "  Args:\n",
        "    temp_c: Temperature in Celsius (float or int).\n",
        "\n",
        "  Returns:\n",
        "    Temperature in Fahrenheit (float).\n",
        "  \"\"\"\n",
        "  # Based on the example: 20°C = 68.0°F\n",
        "  # Formula check: (20 * 9/5) + 32 = (36) + 32 = 68\n",
        "  temp_f = (temp_c * 9/5) + 32\n",
        "  return temp_f\n",
        "\n",
        "# Example usage:\n",
        "celsius_temp_3 = 20\n",
        "fahrenheit_temp_3 = celsius_to_fahrenheit_example(celsius_temp_3)\n",
        "print(f\"{celsius_temp_3}°C is equal to {fahrenheit_temp_3}°F (using improved prompt 3 function)\")"
      ],
      "metadata": {
        "colab": {
          "base_uri": "https://localhost:8080/"
        },
        "id": "l8DG_UjkmGzY",
        "outputId": "0359e57e-7604-40f4-ffc7-f9a5afa23653"
      },
      "execution_count": 5,
      "outputs": [
        {
          "output_type": "stream",
          "name": "stdout",
          "text": [
            "25°C is equal to 77.0°F\n",
            "30°C is equal to 86.0°F (using improved prompt 2 function)\n",
            "20°C is equal to 68.0°F (using improved prompt 3 function)\n"
          ]
        }
      ]
    },
    {
      "cell_type": "markdown",
      "source": [
        "Initial Vague Prompt: It starts with a very general prompt: \"Generate a python function to convert temperature.\" The comments explain why this is vague (doesn't specify units, function name, or types).\n",
        "Improved Prompt 1 (Specify units): The prompt is made more specific by including the units: \"Generate a python function to convert temperature from Celsius to Fahrenheit.\" A corresponding Python function celsius_to_fahrenheit is then provided, which implements the conversion formula.\n",
        "Improved Prompt 2 (Specify units, function name, parameter name): The prompt is further refined to include the desired function name and parameter name: \"Generate a python function named 'convert_c_to_f' that takes a parameter 'temp_c' (temperature in Celsius) and returns the temperature in Fahrenheit.\" A function convert_c_to_f is then shown, matching these specifications.\n",
        "Improved Prompt 3 (Specify units, function name, parameter name, and example): The most specific prompt includes an example input and expected output: \"Generate a python function named 'celsius_to_fahrenheit_example' that takes a parameter 'temp_c' (temperature in Celsius) and returns the temperature in Fahrenheit. For example, if the input is 20, the output should be 68.0.\" The function celsius_to_fahrenheit_example is provided, and the comments note how the example helps verify the correct formula"
      ],
      "metadata": {
        "id": "gWgt5JvjmYVa"
      }
    }
  ]
}