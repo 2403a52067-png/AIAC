{
  "nbformat": 4,
  "nbformat_minor": 0,
  "metadata": {
    "colab": {
      "provenance": [],
      "authorship_tag": "ABX9TyPJIFhVBYau6Xk+ljeZcKxk",
      "include_colab_link": true
    },
    "kernelspec": {
      "name": "python3",
      "display_name": "Python 3"
    },
    "language_info": {
      "name": "python"
    }
  },
  "cells": [
    {
      "cell_type": "markdown",
      "metadata": {
        "id": "view-in-github",
        "colab_type": "text"
      },
      "source": [
        "<a href=\"https://colab.research.google.com/github/2403a52067-png/AIAC/blob/main/Untitled2.ipynb\" target=\"_parent\"><img src=\"https://colab.research.google.com/assets/colab-badge.svg\" alt=\"Open In Colab\"/></a>"
      ]
    },
    {
      "cell_type": "markdown",
      "source": [
        "write a function that checks whether a given year is a leap\n",
        "year.\n",
        "PROMPT:write a function that checks whether a given year is a leap\n",
        "year"
      ],
      "metadata": {
        "id": "L8FFGs2VRqDp"
      }
    },
    {
      "cell_type": "code",
      "execution_count": null,
      "metadata": {
        "id": "00A2JoUVRpCL"
      },
      "outputs": [],
      "source": [
        "write a function that checks whether a given year is a leap\n",
        "year"
      ]
    },
    {
      "cell_type": "code",
      "source": [
        "def is_leap_year(year):\n",
        "  \"\"\"\n",
        "  Checks if a given year is a leap year.\n",
        "\n",
        "  Args:\n",
        "    year: The year to check.\n",
        "\n",
        "  Returns:\n",
        "    True if the year is a leap year, False otherwise.\n",
        "  \"\"\"\n",
        "  return (year % 4 == 0 and year % 100 != 0) or (year % 400 == 0)\n",
        "\n",
        "# You can test the function like this:\n",
        "# print(f\"Is 2000 a leap year? {is_leap_year(2000)}\")\n",
        "# print(f\"Is 1900 a leap year? {is_leap_year(1900)}\")\n",
        "# print(f\"Is 2024 a leap year? {is_leap_year(2024)}\")\n",
        "# print(f\"Is 2023 a leap year? {is_leap_year(2023)}\")"
      ],
      "metadata": {
        "id": "Tzqq6mqlRv8v"
      },
      "execution_count": 1,
      "outputs": []
    },
    {
      "cell_type": "markdown",
      "source": [
        "def is_leap_year(year):: This line defines the function named is_leap_year that takes one argument, year.\n",
        "\"\"\" Checks if a given year is a leap year. ... \"\"\": This is a docstring, which explains what the function does, its arguments, and what it returns.\n",
        "return (year % 4 == 0 and year % 100 != 0) or (year % 400 == 0): This is the core logic of the function. It returns True if the year is a leap year and False otherwise. The logic follows the rules for leap years:\n",
        "A year is a leap year if it is divisible by 4 (year % 4 == 0).\n",
        "However, if it is also divisible by 100 (year % 100 != 0), it is NOT a leap year unless...\n",
        "...it is also divisible by 400 (year % 400 == 0)."
      ],
      "metadata": {
        "id": "_j128fWaSLff"
      }
    },
    {
      "cell_type": "markdown",
      "source": [
        "writing a function that\n",
        "converts centimeters to inches.\n",
        "PROMPT:writing a function that\n",
        "converts centimeters to inches."
      ],
      "metadata": {
        "id": "Xdvui_XUSW6v"
      }
    },
    {
      "cell_type": "code",
      "source": [
        "def cm_to_inches(cm):\n",
        "  \"\"\"\n",
        "  Converts centimeters to inches.\n",
        "\n",
        "  Args:\n",
        "    cm: The length in centimeters.\n",
        "\n",
        "  Returns:\n",
        "    The length in inches.\n",
        "  \"\"\"\n",
        "  inches = cm * 0.393701\n",
        "  return inches\n",
        "\n",
        "# Example usage:\n",
        "# cm = 10\n",
        "# inches = cm_to_inches(cm)\n",
        "# print(f\"{cm} centimeters is equal to {inches} inches.\")"
      ],
      "metadata": {
        "id": "ctjm7e8oSeTn"
      },
      "execution_count": 2,
      "outputs": []
    },
    {
      "cell_type": "markdown",
      "source": [
        "def cm_to_inches(cm):: This line defines the function named cm_to_inches that takes one argument, cm, which represents the length in centimeters.\n",
        "\"\"\" Converts centimeters to inches. ... \"\"\": This is a docstring, explaining the function's purpose, arguments, and what it returns.\n",
        "inches = cm * 0.393701: This is the core of the conversion. It multiplies the input value cm by the conversion factor 0.393701 (since 1 centimeter is approximately 0.393701 inches) and stores the result in a variable called inches.\n",
        "return inches: This line returns the calculated value of inches as the output of the function."
      ],
      "metadata": {
        "id": "mep9vzokSphZ"
      }
    },
    {
      "cell_type": "markdown",
      "source": [
        "generate a function that formats full names as\n",
        "“Last, First”.\n",
        "PROMPT:generate a function that formats full names as\n",
        "“Last, First”"
      ],
      "metadata": {
        "id": "tCppTuG_SqyF"
      }
    },
    {
      "cell_type": "code",
      "source": [
        "def format_full_name(full_name):\n",
        "  \"\"\"\n",
        "  Formats a full name as \"Last, First\".\n",
        "\n",
        "  Args:\n",
        "    full_name: The full name as a string (e.g., \"John Doe\").\n",
        "\n",
        "  Returns:\n",
        "    The formatted name as \"Last, First\" (e.g., \"Doe, John\").\n",
        "    Returns the original string if it cannot be split into two parts.\n",
        "  \"\"\"\n",
        "  names = full_name.split()\n",
        "  if len(names) >= 2:\n",
        "    return f\"{names[-1]}, {' '.join(names[:-1])}\"\n",
        "  else:\n",
        "    return full_name\n",
        "\n",
        "# Example usage:\n",
        "# print(format_full_name(\"John Doe\"))\n",
        "# print(format_full_name(\"Jane Mary Smith\"))\n",
        "# print(format_full_name(\"Peter\"))"
      ],
      "metadata": {
        "id": "9Pshvg0eS2I8"
      },
      "execution_count": 3,
      "outputs": []
    },
    {
      "cell_type": "markdown",
      "source": [
        "def format_full_name(full_name):: This line defines the function named format_full_name that takes one argument, full_name, which is expected to be a string containing the full name.\n",
        "\"\"\" Formats a full name as \"Last, First\". ... \"\"\": This is a docstring that explains the function's purpose, arguments, and what it returns.\n",
        "names = full_name.split(): This line splits the input full_name string into a list of words (names) using spaces as the delimiter. For example, \"John Doe\" becomes ['John', 'Doe'].\n",
        "if len(names) >= 2:: This checks if the list of names has at least two elements. This is to ensure there's a first and last name (or more)."
      ],
      "metadata": {
        "id": "Sbj6D5M3TDcg"
      }
    },
    {
      "cell_type": "markdown",
      "source": [
        "writing a function that counts the\n",
        "number of vowels in a string.\n",
        "PROMPT:writing a function that counts the\n",
        "number of vowels in a string."
      ],
      "metadata": {
        "id": "4YFkpwkdTEdF"
      }
    },
    {
      "cell_type": "code",
      "source": [
        "def count_vowels(text):\n",
        "  \"\"\"\n",
        "  Counts the number of vowels in a string.\n",
        "\n",
        "  Args:\n",
        "    text: The input string.\n",
        "\n",
        "  Returns:\n",
        "    The number of vowels in the string.\n",
        "  \"\"\"\n",
        "  vowels = \"aeiouAEIOU\"\n",
        "  vowel_count = 0\n",
        "  for char in text:\n",
        "    if char in vowels:\n",
        "      vowel_count += 1\n",
        "  return vowel_count\n",
        "\n",
        "# Example usage:\n",
        "# print(f\"Number of vowels in 'Hello World': {count_vowels('Hello World')}\")\n",
        "# print(f\"Number of vowels in 'Python Programming': {count_vowels('Python Programming')}\")"
      ],
      "metadata": {
        "id": "fEdw2MOWTKyO"
      },
      "execution_count": 4,
      "outputs": []
    },
    {
      "cell_type": "markdown",
      "source": [
        "def count_vowels(text):: This line defines the function named count_vowels that takes one argument, text, which is the input string.\n",
        "\"\"\" Counts the number of vowels in a string. ... \"\"\": This is a docstring that explains the function's purpose, arguments, and what it returns.\n",
        "vowels = \"aeiouAEIOU\": This line creates a string named vowels containing all lowercase and uppercase vowels. This string is used to check if a character is a vowel.\n",
        "vowel_count = 0: This line initializes a variable vowel_count to 0. This variable will store the count of vowels found in the input string.\n",
        "for char in text:: This is a for loop that iterates through each character in the input text string.\n",
        "if char in vowels:: Inside the loop, this line checks if the current character (char) is present in the vowels string. If it is, it means the character is a vowel.\n",
        "vowel_count += 1: If the character is a vowel, this line increments the vowel_count by 1.\n",
        "return vowel_count: After the loop has processed all characters in the string, this line returns the final vowel_count."
      ],
      "metadata": {
        "id": "mgFClqTXTWbo"
      }
    },
    {
      "cell_type": "markdown",
      "source": [
        " generate a function that reads a .txt file and returns the\n",
        "number of lines.\n",
        "PROMPT: generate a function that reads a .txt file and returns the\n",
        "number of lines"
      ],
      "metadata": {
        "id": "DwF9YEVBTghU"
      }
    },
    {
      "cell_type": "code",
      "source": [
        "import os\n",
        "\n",
        "def count_lines_in_file(filename):\n",
        "  \"\"\"\n",
        "  Reads a text file and returns the number of lines.\n",
        "\n",
        "  Args:\n",
        "    filename: The path to the text file.\n",
        "\n",
        "  Returns:\n",
        "    The number of lines in the file, or -1 if the file is not found.\n",
        "  \"\"\"\n",
        "  if not os.path.exists(filename):\n",
        "    print(f\"Error: File '{filename}' not found.\")\n",
        "    return -1\n",
        "\n",
        "  with open(filename, 'r') as f:\n",
        "    line_count = sum(1 for line in f)\n",
        "  return line_count\n",
        "\n",
        "# Example usage (you'll need to create a dummy_file.txt first):\n",
        "# with open(\"dummy_file.txt\", \"w\") as f:\n",
        "#   f.write(\"This is line 1.\\n\")\n",
        "#   f.write(\"This is line 2.\\n\")\n",
        "#   f.write(\"This is line 3.\")\n",
        "\n",
        "# file_name = \"dummy_file.txt\"\n",
        "# num_lines = count_lines_in_file(file_name)\n",
        "\n",
        "# if num_lines != -1:\n",
        "#   print(f\"The file '{file_name}' has {num_lines} lines.\")"
      ],
      "metadata": {
        "id": "ZShqqaJLTnSE"
      },
      "execution_count": 5,
      "outputs": []
    },
    {
      "cell_type": "markdown",
      "source": [
        "import os: This line imports the os module, which provides functions for interacting with the operating system, in this case, to check if a file exists.\n",
        "def count_lines_in_file(filename):: This defines the function count_lines_in_file that takes one argument, filename, which is the path to the text file you want to read.\n",
        "\"\"\" Reads a text file and returns the number of lines. ... \"\"\": This is a docstring explaining the function's purpose, arguments, and return value.\n",
        "if not os.path.exists(filename):: This line checks if the file specified by filename exists using the os.path.exists() function.\n",
        "print(f\"Error: File '{filename}' not found.\"): If the file does not exist, this line prints an error message.\n",
        "return -1: If the file is not found, the function returns -1 to indicate an error.\n",
        "with open(filename, 'r') as f:: This opens the file specified by filename in read mode ('r').\n",
        "\n"
      ],
      "metadata": {
        "id": "oYzvC8LmTzJk"
      }
    }
  ]
}