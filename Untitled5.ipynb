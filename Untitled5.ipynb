{
  "nbformat": 4,
  "nbformat_minor": 0,
  "metadata": {
    "colab": {
      "provenance": [],
      "authorship_tag": "ABX9TyMWLmo1HrlQt1ciOXBBi0AY",
      "include_colab_link": true
    },
    "kernelspec": {
      "name": "python3",
      "display_name": "Python 3"
    },
    "language_info": {
      "name": "python"
    }
  },
  "cells": [
    {
      "cell_type": "markdown",
      "metadata": {
        "id": "view-in-github",
        "colab_type": "text"
      },
      "source": [
        "<a href=\"https://colab.research.google.com/github/2403a52067-png/AIAC/blob/main/Untitled5.ipynb\" target=\"_parent\"><img src=\"https://colab.research.google.com/assets/colab-badge.svg\" alt=\"Open In Colab\"/></a>"
      ]
    },
    {
      "cell_type": "code",
      "execution_count": 1,
      "metadata": {
        "colab": {
          "base_uri": "https://localhost:8080/"
        },
        "id": "hOTA6Pgu5GGx",
        "outputId": "be3f49f3-7b68-494f-9610-46d5b0ffe57b"
      },
      "outputs": [
        {
          "output_type": "stream",
          "name": "stdout",
          "text": [
            "Original list: [64, 34, 25, 12, 22, 11, 90]\n",
            "Bubble sorted list: [11, 12, 22, 25, 34, 64, 90]\n",
            "Bubble sort time: 0.000061 seconds\n",
            "--------------------\n",
            "Original list: [64, 34, 25, 12, 22, 11, 90]\n",
            "Python's built-in sorted list: [11, 12, 22, 25, 34, 64, 90]\n",
            "Python's built-in sort() time: 0.000038 seconds\n",
            "\n",
            "Comparison:\n",
            "Bubble sort was 1.59 times slower than Python's built-in sort() for this list.\n"
          ]
        }
      ],
      "source": [
        "import time\n",
        "\n",
        "def bubble_sort(arr):\n",
        "    n = len(arr)\n",
        "    for i in range(n):\n",
        "        for j in range(0, n - i - 1):\n",
        "            if arr[j] > arr[j + 1]:\n",
        "                arr[j], arr[j + 1] = arr[j + 1], arr[j]\n",
        "    return arr\n",
        "\n",
        "# Create a sample list\n",
        "my_list = [64, 34, 25, 12, 22, 11, 90]\n",
        "\n",
        "# Bubble sort\n",
        "bubble_sorted_list = my_list[:] # Create a copy to avoid modifying the original list\n",
        "start_time = time.time()\n",
        "bubble_sort(bubble_sorted_list)\n",
        "end_time = time.time()\n",
        "bubble_sort_time = end_time - start_time\n",
        "\n",
        "print(\"Original list:\", my_list)\n",
        "print(\"Bubble sorted list:\", bubble_sorted_list)\n",
        "print(f\"Bubble sort time: {bubble_sort_time:.6f} seconds\")\n",
        "\n",
        "print(\"-\" * 20)\n",
        "\n",
        "# Python's built-in sort()\n",
        "python_sorted_list = my_list[:] # Create a copy\n",
        "start_time = time.time()\n",
        "python_sorted_list.sort()\n",
        "end_time = time.time()\n",
        "python_sort_time = end_time - start_time\n",
        "\n",
        "print(\"Original list:\", my_list)\n",
        "print(\"Python's built-in sorted list:\", python_sorted_list)\n",
        "print(f\"Python's built-in sort() time: {python_sort_time:.6f} seconds\")\n",
        "\n",
        "print(\"\\nComparison:\")\n",
        "print(f\"Bubble sort was {bubble_sort_time / python_sort_time:.2f} times slower than Python's built-in sort() for this list.\")"
      ]
    },
    {
      "cell_type": "markdown",
      "source": [
        "Bubble Sort Implementation: It defines a function bubble_sort that implements the bubble sort algorithm. This algorithm repeatedly steps through the list, compares adjacent elements and swaps them if they are in the wrong order. This process is repeated until the list is sorted.\n",
        "Bubble Sort Execution and Timing: It creates a sample list my_list, makes a copy for bubble sorting (bubble_sorted_list), and then applies the bubble_sort function. It measures the time taken for the bubble sort to complete using time.time().\n",
        "Python's Built-in sort() Execution and Timing: It creates another copy of the original list (python_sorted_list) and uses Python's built-in sort() method to sort it. It also measures the time taken for this operation.\n",
        "Comparison: Finally, it prints the original and sorted lists for both methods, displays the time taken for each, and calculates how much slower bubble sort was compared to Python's built-in sort for the given list."
      ],
      "metadata": {
        "id": "W7EPh8-S7X4t"
      }
    },
    {
      "cell_type": "code",
      "source": [
        "import string\n",
        "\n",
        "def count_characters(input_string):\n",
        "    \"\"\"\n",
        "    Counts the number of vowels, consonants, and digits in a string.\n",
        "\n",
        "    Args:\n",
        "        input_string: The string to analyze.\n",
        "\n",
        "    Returns:\n",
        "        A tuple containing the counts: (vowels, consonants, digits).\n",
        "    \"\"\"\n",
        "    vowels = \"aeiouAEIOU\"\n",
        "    vowel_count = 0\n",
        "    consonant_count = 0\n",
        "    digit_count = 0\n",
        "\n",
        "    for char in input_string:\n",
        "        if char.isalpha():\n",
        "            if char in vowels:\n",
        "                vowel_count += 1\n",
        "            else:\n",
        "                consonant_count += 1\n",
        "        elif char.isdigit():\n",
        "            digit_count += 1\n",
        "\n",
        "    return vowel_count, consonant_count, digit_count\n",
        "\n",
        "# Example usage:\n",
        "test_string = \"Hello World 123!\"\n",
        "v, c, d = count_characters(test_string)\n",
        "print(f\"String: '{test_string}'\")\n",
        "print(f\"Vowels: {v}\")\n",
        "print(f\"Consonants: {c}\")\n",
        "print(f\"Digits: {d}\")"
      ],
      "metadata": {
        "colab": {
          "base_uri": "https://localhost:8080/"
        },
        "id": "zXxtRGLj8ghw",
        "outputId": "775aa56d-9d2d-4bb3-99f1-5e3c198df28e"
      },
      "execution_count": 2,
      "outputs": [
        {
          "output_type": "stream",
          "name": "stdout",
          "text": [
            "String: 'Hello World 123!'\n",
            "Vowels: 3\n",
            "Consonants: 7\n",
            "Digits: 3\n"
          ]
        }
      ]
    },
    {
      "cell_type": "markdown",
      "source": [
        "def count_characters(input_string): defines the function count_characters that accepts one argument, input_string.\n",
        "The docstring explains what the function does, its arguments, and what it returns.\n",
        "Initialization:\n",
        "vowels = \"aeiouAEIOU\" creates a string containing all lowercase and uppercase vowels for easy checking.\n",
        "Iterating through the String:\n",
        "for char in input_string: loops through each character in the input string.\n",
        "Character Checking and Counting:\n",
        "if char.isalpha(): checks if the current character is an alphabet letter (either uppercase or lowercase).\n",
        "Returning the Counts:\n",
        "return vowel_count, consonant_count, digit_count returns the final counts of vowels, consonants, and digits as a tuple.\n",
        "Example Usage:\n",
        "test_string = \"Hello World 123!\" defines a sample string to test the function.\n",
        "v, c, d = count_characters(test_string) calls the function with the test string and unpacks the returned tuple into three variables: v, c, and d.\n",
        "The print statements display the original string and the calculated counts."
      ],
      "metadata": {
        "id": "wb5VsJqe80HW"
      }
    },
    {
      "cell_type": "code",
      "source": [
        "# Define the filename\n",
        "filename = \"sample.txt\"\n",
        "\n",
        "# --- Create and Write to the file ---\n",
        "try:\n",
        "    # Open the file in write mode ('w').\n",
        "    # If the file doesn't exist, it will be created.\n",
        "    # If the file exists, its content will be truncated (erased).\n",
        "    with open(filename, \"w\") as file:\n",
        "        file.write(\"This is the first line.\\n\")\n",
        "        file.write(\"This is the second line.\\n\")\n",
        "        file.write(\"And this is the third line.\\n\")\n",
        "    print(f\"Successfully wrote to '{filename}'\")\n",
        "\n",
        "except IOError as e:\n",
        "    print(f\"Error writing to file: {e}\")\n",
        "\n",
        "# --- Read from the file ---\n",
        "print(f\"\\nReading content from '{filename}':\")\n",
        "try:\n",
        "    # Open the file in read mode ('r').\n",
        "    with open(filename, \"r\") as file:\n",
        "        # Read the entire content of the file\n",
        "        content = file.read()\n",
        "        print(content)\n",
        "\n",
        "except FileNotFoundError:\n",
        "    print(f\"Error: The file '{filename}' was not found.\")\n",
        "except IOError as e:\n",
        "    print(f\"Error reading from file: {e}\")"
      ],
      "metadata": {
        "colab": {
          "base_uri": "https://localhost:8080/"
        },
        "id": "4MfRutVr9Amy",
        "outputId": "54dcf02d-2c02-4eba-e1e2-74516ae2e2d8"
      },
      "execution_count": 3,
      "outputs": [
        {
          "output_type": "stream",
          "name": "stdout",
          "text": [
            "Successfully wrote to 'sample.txt'\n",
            "\n",
            "Reading content from 'sample.txt':\n",
            "This is the first line.\n",
            "This is the second line.\n",
            "And this is the third line.\n",
            "\n"
          ]
        }
      ]
    },
    {
      "cell_type": "markdown",
      "source": [
        "filename = \"sample.txt\" sets the name of the file that will be created and used.\n",
        "Create and Write to the file:\n",
        "The try...except IOError block is used to handle potential errors during file operations.\n",
        "with open(filename, \"w\") as file: opens the file named \"sample.txt\" in write mode (\"w\"). The with statement ensures the file is automatically closed even if errors occur.\n",
        "If \"sample.txt\" doesn't exist, it's created.\n",
        "If it exists, its contents are erased before writing.\n",
        "file.write(...) writes the specified strings (lines of text) into the file. The \\n at the end of each string adds a newline character, ensuring each sentence is on a separate line.\n",
        "print(f\"Successfully wrote to '{filename}'\") confirms that the writing process was successful.\n",
        "Read from the file:\n",
        "print(f\"\\nReading content from '{filename}':\") indicates that the code is now reading from the file."
      ],
      "metadata": {
        "id": "iRYuo-ZC_HuL"
      }
    },
    {
      "cell_type": "code",
      "source": [
        "def add(x, y):\n",
        "  \"\"\"Adds two numbers.\"\"\"\n",
        "  return x + y\n",
        "\n",
        "def subtract(x, y):\n",
        "  \"\"\"Subtracts the second number from the first.\"\"\"\n",
        "  return x - y\n",
        "\n",
        "def multiply(x, y):\n",
        "  \"\"\"Multiplies two numbers.\"\"\"\n",
        "  return x * y\n",
        "\n",
        "def divide(x, y):\n",
        "  \"\"\"Divides the first number by the second. Handles division by zero.\"\"\"\n",
        "  if y == 0:\n",
        "    return \"Error! Division by zero.\"\n",
        "  else:\n",
        "    return x / y\n",
        "\n",
        "print(\"Select operation:\")\n",
        "print(\"1.Add\")\n",
        "print(\"2.Subtract\")\n",
        "print(\"3.Multiply\")\n",
        "print(\"4.Divide\")\n",
        "\n",
        "while True:\n",
        "  choice = input(\"Enter choice(1/2/3/4): \")\n",
        "\n",
        "  if choice in ('1', '2', '3', '4'):\n",
        "    try:\n",
        "      num1 = float(input(\"Enter first number: \"))\n",
        "      num2 = float(input(\"Enter second number: \"))\n",
        "    except ValueError:\n",
        "      print(\"Invalid input. Please enter numbers.\")\n",
        "      continue\n",
        "\n",
        "    if choice == '1':\n",
        "      print(num1, \"+\", num2, \"=\", add(num1, num2))\n",
        "\n",
        "    elif choice == '2':\n",
        "      print(num1, \"-\", num2, \"=\", subtract(num1, num2))\n",
        "\n",
        "    elif choice == '3':\n",
        "      print(num1, \"*\", num2, \"=\", multiply(num1, num2))\n",
        "\n",
        "    elif choice == '4':\n",
        "      print(num1, \"/\", num2, \"=\", divide(num1, num2))\n",
        "    break\n",
        "  else:\n",
        "    print(\"Invalid Input\")"
      ],
      "metadata": {
        "colab": {
          "base_uri": "https://localhost:8080/"
        },
        "id": "kU__Nj8M_N-5",
        "outputId": "ce912b5e-24a3-4da6-e57b-55f47d241eff"
      },
      "execution_count": null,
      "outputs": [
        {
          "output_type": "stream",
          "name": "stdout",
          "text": [
            "Select operation:\n",
            "1.Add\n",
            "2.Subtract\n",
            "3.Multiply\n",
            "4.Divide\n"
          ]
        }
      ]
    },
    {
      "cell_type": "markdown",
      "source": [
        "def add(x, y):, def subtract(x, y):, def multiply(x, y):, and def divide(x, y): define four separate functions for addition, subtraction, multiplication, and division, respectively.\n",
        "Each function takes two arguments (x and y) and returns the result of the operation.\n",
        "The divide function includes a check to prevent division by zero, returning an error message if the divisor (y) is 0.\n",
        "User Interface:\n",
        "print(\"Select operation:\") and the subsequent print statements display the available operations to the user.\n",
        "Input Loop:\n",
        "while True: starts an infinite loop that continues until explicitly broken.\n",
        "choice = input(\"Enter choice(1/2/3/4): \") prompts the user to enter their choice of operation.\n",
        "Operation Selection and Input:\n",
        "if choice in ('1', '2', '3', '4'): checks if the user's input is a valid choice.\n",
        "If the choice is valid, a try...except ValueError block is used to handle potential errors if the user enters non-numeric input for the numbers.\n",
        "num1 = float(input(\"Enter first number: \")) and num2 = float(input(\"Enter second number: \")) prompt the user to enter the two numbers for the calculation. float() is used to allow for decimal inputs.\n"
      ],
      "metadata": {
        "id": "DpLk7-_bBFuP"
      }
    },
    {
      "cell_type": "code",
      "source": [
        "def is_leap(year):\n",
        "  \"\"\"\n",
        "  Checks if a given year is a leap year.\n",
        "\n",
        "  Args:\n",
        "    year: The year to check (integer).\n",
        "\n",
        "  Returns:\n",
        "    True if the year is a leap year, False otherwise.\n",
        "  \"\"\"\n",
        "  # Leap years are divisible by 4, except for years divisible by 100\n",
        "  # but not by 400.\n",
        "  return (year % 4 == 0 and year % 100 != 0) or (year % 400 == 0)\n",
        "\n",
        "# Get input from the user\n",
        "try:\n",
        "  year_to_check = int(input(\"Enter a year: \"))\n",
        "  if is_leap(year_to_check):\n",
        "    print(f\"{year_to_check} is a leap year.\")\n",
        "  else:\n",
        "    print(f\"{year_to_check} is not a leap year.\")\n",
        "except ValueError:\n",
        "  print(\"Invalid input. Please enter an integer for the year.\")"
      ],
      "metadata": {
        "id": "48zIWwMTBRCp"
      },
      "execution_count": null,
      "outputs": []
    }
  ]
}